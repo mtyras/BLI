{
 "cells": [
  {
   "cell_type": "code",
   "execution_count": 2,
   "metadata": {},
   "outputs": [],
   "source": [
    "from PIL import Image\n",
    "\n",
    "# Open the images\n",
    "image1 = Image.open('protA-d1-FL_e3-fl-Bivalent analyte.png')\n",
    "image2 = Image.open('protA-d1-FL_e3-fl-Heterogeneous ligand.png')\n",
    "\n",
    "# Get the dimensions of the images\n",
    "width1, height1 = image1.size\n",
    "width2, height2 = image2.size\n",
    "\n",
    "# Create a new image with a width equal to the sum of the widths of the two images plus 10px\n",
    "# and a height equal to the maximum height of the two images\n",
    "new_image = Image.new('RGB', (width1 + width2 + 10, max(height1, height2)), color='white')\n",
    "\n",
    "# Paste the first image at position (0, 0)\n",
    "new_image.paste(image1, (0, 0))\n",
    "\n",
    "# Paste the second image at position (width1 + 10, 0)\n",
    "new_image.paste(image2, (width1 + 10, 0))\n",
    "\n",
    "# Save the new image\n",
    "new_image.save('D1-FL_E3-FL.png')"
   ]
  }
 ],
 "metadata": {
  "kernelspec": {
   "display_name": "base",
   "language": "python",
   "name": "python3"
  },
  "language_info": {
   "codemirror_mode": {
    "name": "ipython",
    "version": 3
   },
   "file_extension": ".py",
   "mimetype": "text/x-python",
   "name": "python",
   "nbconvert_exporter": "python",
   "pygments_lexer": "ipython3",
   "version": "3.11.3"
  },
  "orig_nbformat": 4,
  "vscode": {
   "interpreter": {
    "hash": "610a6f344c2137faf927ea819c63f6cee33a2c04455044b28099f39fe9722347"
   }
  }
 },
 "nbformat": 4,
 "nbformat_minor": 2
}
